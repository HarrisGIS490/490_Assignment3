{
 "cells": [
  {
   "cell_type": "code",
   "execution_count": 1,
   "id": "bdfc5982",
   "metadata": {},
   "outputs": [
    {
     "name": "stderr",
     "output_type": "stream",
     "text": [
      "C:\\Users\\Dalton\\.gds\\lib\\site-packages\\geopandas\\_compat.py:123: UserWarning: The Shapely GEOS version (3.11.1-CAPI-1.17.1) is incompatible with the GEOS version PyGEOS was compiled with (3.10.4-CAPI-1.16.2). Conversions between both will be slow.\n",
      "  warnings.warn(\n",
      "C:\\Users\\Dalton\\AppData\\Local\\Temp\\ipykernel_1872\\3744411122.py:1: UserWarning: Shapely 2.0 is installed, but because PyGEOS is also installed, GeoPandas will still use PyGEOS by default for now. To force to use and test Shapely 2.0, you have to set the environment variable USE_PYGEOS=0. You can do this before starting the Python process, or in your code before importing geopandas:\n",
      "\n",
      "import os\n",
      "os.environ['USE_PYGEOS'] = '0'\n",
      "import geopandas\n",
      "\n",
      "In a future release, GeoPandas will switch to using Shapely by default. If you are using PyGEOS directly (calling PyGEOS functions on geometries from GeoPandas), this will then stop working and you are encouraged to migrate from PyGEOS to Shapely 2.0 (https://shapely.readthedocs.io/en/latest/migration_pygeos.html).\n",
      "  import geopandas as gpd\n"
     ]
    }
   ],
   "source": [
    "import geopandas as gpd\n",
    "import osmnx as ox\n",
    "import networkx as nx\n"
   ]
  },
  {
   "cell_type": "code",
   "execution_count": 2,
   "id": "8ca1ba86",
   "metadata": {},
   "outputs": [],
   "source": [
    "graph = ox.load_graphml('C:/Users/Dalton/Desktop/School/Winter_2023/GIS_490/Assignment_3/data/graph.graphml')"
   ]
  },
  {
   "cell_type": "code",
   "execution_count": 3,
   "id": "d485ec48",
   "metadata": {},
   "outputs": [
    {
     "data": {
      "text/plain": [
       "networkx.classes.multidigraph.MultiDiGraph"
      ]
     },
     "execution_count": 3,
     "metadata": {},
     "output_type": "execute_result"
    }
   ],
   "source": [
    "type(graph)"
   ]
  },
  {
   "cell_type": "markdown",
   "id": "4a5b81fb",
   "metadata": {},
   "source": [
    "## Task 1"
   ]
  },
  {
   "cell_type": "markdown",
   "id": "63a4038e",
   "metadata": {},
   "source": [
    "#### b.1) Convert the graph to two GeoDataFrames, one containing edges and one containing the nodes"
   ]
  },
  {
   "cell_type": "code",
   "execution_count": 4,
   "id": "33d64c2c",
   "metadata": {},
   "outputs": [],
   "source": [
    "nodes = ox.graph_to_gdfs(graph, nodes=True, edges=False)"
   ]
  },
  {
   "cell_type": "code",
   "execution_count": 5,
   "id": "3c796f92",
   "metadata": {},
   "outputs": [
    {
     "data": {
      "text/html": [
       "<div>\n",
       "<style scoped>\n",
       "    .dataframe tbody tr th:only-of-type {\n",
       "        vertical-align: middle;\n",
       "    }\n",
       "\n",
       "    .dataframe tbody tr th {\n",
       "        vertical-align: top;\n",
       "    }\n",
       "\n",
       "    .dataframe thead th {\n",
       "        text-align: right;\n",
       "    }\n",
       "</style>\n",
       "<table border=\"1\" class=\"dataframe\">\n",
       "  <thead>\n",
       "    <tr style=\"text-align: right;\">\n",
       "      <th></th>\n",
       "      <th>nodeID</th>\n",
       "      <th>x</th>\n",
       "      <th>y</th>\n",
       "      <th>geometry</th>\n",
       "    </tr>\n",
       "    <tr>\n",
       "      <th>osmid</th>\n",
       "      <th></th>\n",
       "      <th></th>\n",
       "      <th></th>\n",
       "      <th></th>\n",
       "    </tr>\n",
       "  </thead>\n",
       "  <tbody>\n",
       "    <tr>\n",
       "      <th>0</th>\n",
       "      <td>0</td>\n",
       "      <td>474471.651693</td>\n",
       "      <td>4.813048e+06</td>\n",
       "      <td>POINT (474471.652 4813047.859)</td>\n",
       "    </tr>\n",
       "    <tr>\n",
       "      <th>1</th>\n",
       "      <td>1</td>\n",
       "      <td>474446.659714</td>\n",
       "      <td>4.813218e+06</td>\n",
       "      <td>POINT (474446.660 4813218.049)</td>\n",
       "    </tr>\n",
       "    <tr>\n",
       "      <th>4</th>\n",
       "      <td>4</td>\n",
       "      <td>474465.724070</td>\n",
       "      <td>4.817570e+06</td>\n",
       "      <td>POINT (474465.724 4817570.071)</td>\n",
       "    </tr>\n",
       "    <tr>\n",
       "      <th>2</th>\n",
       "      <td>2</td>\n",
       "      <td>473978.436524</td>\n",
       "      <td>4.814030e+06</td>\n",
       "      <td>POINT (473978.437 4814030.307)</td>\n",
       "    </tr>\n",
       "    <tr>\n",
       "      <th>3</th>\n",
       "      <td>3</td>\n",
       "      <td>474305.533925</td>\n",
       "      <td>4.813547e+06</td>\n",
       "      <td>POINT (474305.534 4813546.860)</td>\n",
       "    </tr>\n",
       "    <tr>\n",
       "      <th>...</th>\n",
       "      <td>...</td>\n",
       "      <td>...</td>\n",
       "      <td>...</td>\n",
       "      <td>...</td>\n",
       "    </tr>\n",
       "    <tr>\n",
       "      <th>19787</th>\n",
       "      <td>19787</td>\n",
       "      <td>985086.134288</td>\n",
       "      <td>4.900362e+06</td>\n",
       "      <td>POINT (985086.134 4900362.375)</td>\n",
       "    </tr>\n",
       "    <tr>\n",
       "      <th>19788</th>\n",
       "      <td>19788</td>\n",
       "      <td>486748.068451</td>\n",
       "      <td>5.005300e+06</td>\n",
       "      <td>POINT (486748.068 5005299.982)</td>\n",
       "    </tr>\n",
       "    <tr>\n",
       "      <th>19789</th>\n",
       "      <td>19789</td>\n",
       "      <td>486103.495526</td>\n",
       "      <td>5.005312e+06</td>\n",
       "      <td>POINT (486103.496 5005312.082)</td>\n",
       "    </tr>\n",
       "    <tr>\n",
       "      <th>19791</th>\n",
       "      <td>19791</td>\n",
       "      <td>475494.478782</td>\n",
       "      <td>4.697925e+06</td>\n",
       "      <td>POINT (475494.479 4697925.169)</td>\n",
       "    </tr>\n",
       "    <tr>\n",
       "      <th>19792</th>\n",
       "      <td>19792</td>\n",
       "      <td>475856.821534</td>\n",
       "      <td>4.698377e+06</td>\n",
       "      <td>POINT (475856.822 4698376.962)</td>\n",
       "    </tr>\n",
       "  </tbody>\n",
       "</table>\n",
       "<p>19793 rows × 4 columns</p>\n",
       "</div>"
      ],
      "text/plain": [
       "      nodeID              x             y                        geometry\n",
       "osmid                                                                    \n",
       "0          0  474471.651693  4.813048e+06  POINT (474471.652 4813047.859)\n",
       "1          1  474446.659714  4.813218e+06  POINT (474446.660 4813218.049)\n",
       "4          4  474465.724070  4.817570e+06  POINT (474465.724 4817570.071)\n",
       "2          2  473978.436524  4.814030e+06  POINT (473978.437 4814030.307)\n",
       "3          3  474305.533925  4.813547e+06  POINT (474305.534 4813546.860)\n",
       "...      ...            ...           ...                             ...\n",
       "19787  19787  985086.134288  4.900362e+06  POINT (985086.134 4900362.375)\n",
       "19788  19788  486748.068451  5.005300e+06  POINT (486748.068 5005299.982)\n",
       "19789  19789  486103.495526  5.005312e+06  POINT (486103.496 5005312.082)\n",
       "19791  19791  475494.478782  4.697925e+06  POINT (475494.479 4697925.169)\n",
       "19792  19792  475856.821534  4.698377e+06  POINT (475856.822 4698376.962)\n",
       "\n",
       "[19793 rows x 4 columns]"
      ]
     },
     "execution_count": 5,
     "metadata": {},
     "output_type": "execute_result"
    }
   ],
   "source": [
    "nodes"
   ]
  },
  {
   "cell_type": "markdown",
   "id": "c4e0e915",
   "metadata": {},
   "source": [
    "#### b.2) Convert the graph to two GeoDataFrames, one containing edges and one containing the nodes."
   ]
  },
  {
   "cell_type": "code",
   "execution_count": 6,
   "id": "618bd98a",
   "metadata": {},
   "outputs": [],
   "source": [
    "edges = ox.graph_to_gdfs(graph, nodes=False, edges=True)"
   ]
  },
  {
   "cell_type": "code",
   "execution_count": 7,
   "id": "919975bb",
   "metadata": {},
   "outputs": [
    {
     "data": {
      "text/html": [
       "<div>\n",
       "<style scoped>\n",
       "    .dataframe tbody tr th:only-of-type {\n",
       "        vertical-align: middle;\n",
       "    }\n",
       "\n",
       "    .dataframe tbody tr th {\n",
       "        vertical-align: top;\n",
       "    }\n",
       "\n",
       "    .dataframe thead th {\n",
       "        text-align: right;\n",
       "    }\n",
       "</style>\n",
       "<table border=\"1\" class=\"dataframe\">\n",
       "  <thead>\n",
       "    <tr style=\"text-align: right;\">\n",
       "      <th></th>\n",
       "      <th></th>\n",
       "      <th></th>\n",
       "      <th>name</th>\n",
       "      <th>length</th>\n",
       "      <th>geometry</th>\n",
       "    </tr>\n",
       "    <tr>\n",
       "      <th>u</th>\n",
       "      <th>v</th>\n",
       "      <th>key</th>\n",
       "      <th></th>\n",
       "      <th></th>\n",
       "      <th></th>\n",
       "    </tr>\n",
       "  </thead>\n",
       "  <tbody>\n",
       "    <tr>\n",
       "      <th rowspan=\"3\" valign=\"top\">0</th>\n",
       "      <th>1</th>\n",
       "      <th>0</th>\n",
       "      <td>CABIN CREEK S.R.A. CONN #1</td>\n",
       "      <td>172.406720</td>\n",
       "      <td>LINESTRING (474471.652 4813047.859, 474471.427...</td>\n",
       "    </tr>\n",
       "    <tr>\n",
       "      <th rowspan=\"2\" valign=\"top\">96</th>\n",
       "      <th>0</th>\n",
       "      <td>CABIN CREEK S.R.A. CONN #1</td>\n",
       "      <td>199.893815</td>\n",
       "      <td>LINESTRING (474434.459 4812856.736, 474459.957...</td>\n",
       "    </tr>\n",
       "    <tr>\n",
       "      <th>1</th>\n",
       "      <td>CABIN CREEK S.R.A. CONN #2</td>\n",
       "      <td>195.040370</td>\n",
       "      <td>LINESTRING (474434.459 4812856.736, 474451.459...</td>\n",
       "    </tr>\n",
       "    <tr>\n",
       "      <th rowspan=\"2\" valign=\"top\">1</th>\n",
       "      <th>4</th>\n",
       "      <th>0</th>\n",
       "      <td>PACIFIC</td>\n",
       "      <td>4982.726110</td>\n",
       "      <td>LINESTRING (474446.660 4813218.049, 474441.478...</td>\n",
       "    </tr>\n",
       "    <tr>\n",
       "      <th>0</th>\n",
       "      <th>0</th>\n",
       "      <td>CABIN CREEK S.R.A. CONN #1</td>\n",
       "      <td>172.406720</td>\n",
       "      <td>LINESTRING (474471.652 4813047.859, 474471.427...</td>\n",
       "    </tr>\n",
       "    <tr>\n",
       "      <th>...</th>\n",
       "      <th>...</th>\n",
       "      <th>...</th>\n",
       "      <td>...</td>\n",
       "      <td>...</td>\n",
       "      <td>...</td>\n",
       "    </tr>\n",
       "    <tr>\n",
       "      <th>19788</th>\n",
       "      <th>19789</th>\n",
       "      <th>0</th>\n",
       "      <td>E. MCMINNVILLE FRONTAGE RD</td>\n",
       "      <td>644.958312</td>\n",
       "      <td>LINESTRING (486103.496 5005312.082, 486130.563...</td>\n",
       "    </tr>\n",
       "    <tr>\n",
       "      <th rowspan=\"2\" valign=\"top\">19789</th>\n",
       "      <th>19788</th>\n",
       "      <th>0</th>\n",
       "      <td>E. MCMINNVILLE FRONTAGE RD</td>\n",
       "      <td>644.958312</td>\n",
       "      <td>LINESTRING (486103.496 5005312.082, 486130.563...</td>\n",
       "    </tr>\n",
       "    <tr>\n",
       "      <th>19790</th>\n",
       "      <th>0</th>\n",
       "      <td>E. MCMINNVILLE FRONTAGE RD</td>\n",
       "      <td>237.927444</td>\n",
       "      <td>LINESTRING (485932.091 5005457.706, 485939.145...</td>\n",
       "    </tr>\n",
       "    <tr>\n",
       "      <th>19791</th>\n",
       "      <th>19792</th>\n",
       "      <th>0</th>\n",
       "      <td>FOOTHILL BLVD. FRONTAGE RD</td>\n",
       "      <td>719.563780</td>\n",
       "      <td>LINESTRING (475494.479 4697925.169, 475608.321...</td>\n",
       "    </tr>\n",
       "    <tr>\n",
       "      <th>19792</th>\n",
       "      <th>19791</th>\n",
       "      <th>0</th>\n",
       "      <td>FOOTHILL BLVD. FRONTAGE RD</td>\n",
       "      <td>719.563780</td>\n",
       "      <td>LINESTRING (475494.479 4697925.169, 475608.321...</td>\n",
       "    </tr>\n",
       "  </tbody>\n",
       "</table>\n",
       "<p>42508 rows × 3 columns</p>\n",
       "</div>"
      ],
      "text/plain": [
       "                                       name       length  \\\n",
       "u     v     key                                            \n",
       "0     1     0    CABIN CREEK S.R.A. CONN #1   172.406720   \n",
       "      96    0    CABIN CREEK S.R.A. CONN #1   199.893815   \n",
       "            1    CABIN CREEK S.R.A. CONN #2   195.040370   \n",
       "1     4     0                       PACIFIC  4982.726110   \n",
       "      0     0    CABIN CREEK S.R.A. CONN #1   172.406720   \n",
       "...                                     ...          ...   \n",
       "19788 19789 0    E. MCMINNVILLE FRONTAGE RD   644.958312   \n",
       "19789 19788 0    E. MCMINNVILLE FRONTAGE RD   644.958312   \n",
       "      19790 0    E. MCMINNVILLE FRONTAGE RD   237.927444   \n",
       "19791 19792 0    FOOTHILL BLVD. FRONTAGE RD   719.563780   \n",
       "19792 19791 0    FOOTHILL BLVD. FRONTAGE RD   719.563780   \n",
       "\n",
       "                                                          geometry  \n",
       "u     v     key                                                     \n",
       "0     1     0    LINESTRING (474471.652 4813047.859, 474471.427...  \n",
       "      96    0    LINESTRING (474434.459 4812856.736, 474459.957...  \n",
       "            1    LINESTRING (474434.459 4812856.736, 474451.459...  \n",
       "1     4     0    LINESTRING (474446.660 4813218.049, 474441.478...  \n",
       "      0     0    LINESTRING (474471.652 4813047.859, 474471.427...  \n",
       "...                                                            ...  \n",
       "19788 19789 0    LINESTRING (486103.496 5005312.082, 486130.563...  \n",
       "19789 19788 0    LINESTRING (486103.496 5005312.082, 486130.563...  \n",
       "      19790 0    LINESTRING (485932.091 5005457.706, 485939.145...  \n",
       "19791 19792 0    LINESTRING (475494.479 4697925.169, 475608.321...  \n",
       "19792 19791 0    LINESTRING (475494.479 4697925.169, 475608.321...  \n",
       "\n",
       "[42508 rows x 3 columns]"
      ]
     },
     "execution_count": 7,
     "metadata": {},
     "output_type": "execute_result"
    }
   ],
   "source": [
    "edges"
   ]
  },
  {
   "cell_type": "markdown",
   "id": "c5acbf8c",
   "metadata": {},
   "source": [
    "#### a) How many nodes and edges does this graph have?"
   ]
  },
  {
   "cell_type": "markdown",
   "id": "f87034b8",
   "metadata": {},
   "source": [
    "19793 nodes and 42508 edges"
   ]
  },
  {
   "cell_type": "markdown",
   "id": "d7ab1195",
   "metadata": {},
   "source": [
    "#### c) What is the coordinate reference system of the nodes GeoDataFrame?"
   ]
  },
  {
   "cell_type": "code",
   "execution_count": 8,
   "id": "9cb47ed4",
   "metadata": {},
   "outputs": [
    {
     "data": {
      "text/plain": [
       "<Derived Projected CRS: EPSG:32610>\n",
       "Name: WGS 84 / UTM zone 10N\n",
       "Axis Info [cartesian]:\n",
       "- E[east]: Easting (metre)\n",
       "- N[north]: Northing (metre)\n",
       "Area of Use:\n",
       "- name: Between 126°W and 120°W, northern hemisphere between equator and 84°N, onshore and offshore. Canada - British Columbia (BC); Northwest Territories (NWT); Nunavut; Yukon. United States (USA) - Alaska (AK).\n",
       "- bounds: (-126.0, 0.0, -120.0, 84.0)\n",
       "Coordinate Operation:\n",
       "- name: UTM zone 10N\n",
       "- method: Transverse Mercator\n",
       "Datum: World Geodetic System 1984 ensemble\n",
       "- Ellipsoid: WGS 84\n",
       "- Prime Meridian: Greenwich"
      ]
     },
     "execution_count": 8,
     "metadata": {},
     "output_type": "execute_result"
    }
   ],
   "source": [
    "nodes.crs"
   ]
  },
  {
   "cell_type": "markdown",
   "id": "1d02aa69",
   "metadata": {},
   "source": [
    "#### d) List the column names in the edges GeoDataFrame."
   ]
  },
  {
   "cell_type": "code",
   "execution_count": 9,
   "id": "10a995d0",
   "metadata": {},
   "outputs": [
    {
     "data": {
      "text/html": [
       "<div>\n",
       "<style scoped>\n",
       "    .dataframe tbody tr th:only-of-type {\n",
       "        vertical-align: middle;\n",
       "    }\n",
       "\n",
       "    .dataframe tbody tr th {\n",
       "        vertical-align: top;\n",
       "    }\n",
       "\n",
       "    .dataframe thead th {\n",
       "        text-align: right;\n",
       "    }\n",
       "</style>\n",
       "<table border=\"1\" class=\"dataframe\">\n",
       "  <thead>\n",
       "    <tr style=\"text-align: right;\">\n",
       "      <th></th>\n",
       "      <th></th>\n",
       "      <th></th>\n",
       "      <th>name</th>\n",
       "      <th>length</th>\n",
       "      <th>geometry</th>\n",
       "    </tr>\n",
       "    <tr>\n",
       "      <th>u</th>\n",
       "      <th>v</th>\n",
       "      <th>key</th>\n",
       "      <th></th>\n",
       "      <th></th>\n",
       "      <th></th>\n",
       "    </tr>\n",
       "  </thead>\n",
       "  <tbody>\n",
       "    <tr>\n",
       "      <th rowspan=\"3\" valign=\"top\">0</th>\n",
       "      <th>1</th>\n",
       "      <th>0</th>\n",
       "      <td>CABIN CREEK S.R.A. CONN #1</td>\n",
       "      <td>172.406720</td>\n",
       "      <td>LINESTRING (474471.652 4813047.859, 474471.427...</td>\n",
       "    </tr>\n",
       "    <tr>\n",
       "      <th rowspan=\"2\" valign=\"top\">96</th>\n",
       "      <th>0</th>\n",
       "      <td>CABIN CREEK S.R.A. CONN #1</td>\n",
       "      <td>199.893815</td>\n",
       "      <td>LINESTRING (474434.459 4812856.736, 474459.957...</td>\n",
       "    </tr>\n",
       "    <tr>\n",
       "      <th>1</th>\n",
       "      <td>CABIN CREEK S.R.A. CONN #2</td>\n",
       "      <td>195.040370</td>\n",
       "      <td>LINESTRING (474434.459 4812856.736, 474451.459...</td>\n",
       "    </tr>\n",
       "    <tr>\n",
       "      <th rowspan=\"2\" valign=\"top\">1</th>\n",
       "      <th>4</th>\n",
       "      <th>0</th>\n",
       "      <td>PACIFIC</td>\n",
       "      <td>4982.726110</td>\n",
       "      <td>LINESTRING (474446.660 4813218.049, 474441.478...</td>\n",
       "    </tr>\n",
       "    <tr>\n",
       "      <th>0</th>\n",
       "      <th>0</th>\n",
       "      <td>CABIN CREEK S.R.A. CONN #1</td>\n",
       "      <td>172.406720</td>\n",
       "      <td>LINESTRING (474471.652 4813047.859, 474471.427...</td>\n",
       "    </tr>\n",
       "  </tbody>\n",
       "</table>\n",
       "</div>"
      ],
      "text/plain": [
       "                                name       length  \\\n",
       "u v  key                                            \n",
       "0 1  0    CABIN CREEK S.R.A. CONN #1   172.406720   \n",
       "  96 0    CABIN CREEK S.R.A. CONN #1   199.893815   \n",
       "     1    CABIN CREEK S.R.A. CONN #2   195.040370   \n",
       "1 4  0                       PACIFIC  4982.726110   \n",
       "  0  0    CABIN CREEK S.R.A. CONN #1   172.406720   \n",
       "\n",
       "                                                   geometry  \n",
       "u v  key                                                     \n",
       "0 1  0    LINESTRING (474471.652 4813047.859, 474471.427...  \n",
       "  96 0    LINESTRING (474434.459 4812856.736, 474459.957...  \n",
       "     1    LINESTRING (474434.459 4812856.736, 474451.459...  \n",
       "1 4  0    LINESTRING (474446.660 4813218.049, 474441.478...  \n",
       "  0  0    LINESTRING (474471.652 4813047.859, 474471.427...  "
      ]
     },
     "execution_count": 9,
     "metadata": {},
     "output_type": "execute_result"
    }
   ],
   "source": [
    "edges.head()"
   ]
  },
  {
   "cell_type": "code",
   "execution_count": 10,
   "id": "8b7b3804",
   "metadata": {},
   "outputs": [],
   "source": [
    "#u, v, key, name, length, geometry"
   ]
  },
  {
   "cell_type": "code",
   "execution_count": 11,
   "id": "cc8a5ce7",
   "metadata": {},
   "outputs": [
    {
     "data": {
      "text/plain": [
       "(42508, 3)"
      ]
     },
     "execution_count": 11,
     "metadata": {},
     "output_type": "execute_result"
    }
   ],
   "source": [
    "edges.shape"
   ]
  },
  {
   "cell_type": "code",
   "execution_count": 12,
   "id": "322a7c83",
   "metadata": {},
   "outputs": [
    {
     "data": {
      "text/plain": [
       "name          object\n",
       "length       float64\n",
       "geometry    geometry\n",
       "dtype: object"
      ]
     },
     "execution_count": 12,
     "metadata": {},
     "output_type": "execute_result"
    }
   ],
   "source": [
    "edges.dtypes"
   ]
  },
  {
   "cell_type": "markdown",
   "id": "bdef2776",
   "metadata": {},
   "source": [
    "#### e) What is the min, max, and mean edge length?"
   ]
  },
  {
   "cell_type": "code",
   "execution_count": 13,
   "id": "13a511fd",
   "metadata": {},
   "outputs": [
    {
     "data": {
      "text/plain": [
       "1.370217966253487"
      ]
     },
     "execution_count": 13,
     "metadata": {},
     "output_type": "execute_result"
    }
   ],
   "source": [
    "edges['length'].min()"
   ]
  },
  {
   "cell_type": "code",
   "execution_count": 14,
   "id": "a3c33f81",
   "metadata": {},
   "outputs": [
    {
     "data": {
      "text/plain": [
       "21730.128883116628"
      ]
     },
     "execution_count": 14,
     "metadata": {},
     "output_type": "execute_result"
    }
   ],
   "source": [
    "edges['length'].max()"
   ]
  },
  {
   "cell_type": "code",
   "execution_count": 15,
   "id": "9d1ba63f",
   "metadata": {},
   "outputs": [
    {
     "data": {
      "text/plain": [
       "674.3728080973483"
      ]
     },
     "execution_count": 15,
     "metadata": {},
     "output_type": "execute_result"
    }
   ],
   "source": [
    "edges['length'].mean()"
   ]
  },
  {
   "cell_type": "markdown",
   "id": "4e4dd9de",
   "metadata": {},
   "source": [
    "Edges min = 1.3702, edges max = 21730.1289, edges mean = 674.3728"
   ]
  },
  {
   "cell_type": "markdown",
   "id": "f55dbdd5",
   "metadata": {},
   "source": [
    "f) Produce and customize a plot showing the Oregon Highway Network using the ox.plot_graph function.\n"
   ]
  },
  {
   "cell_type": "code",
   "execution_count": 16,
   "id": "15643737",
   "metadata": {},
   "outputs": [
    {
     "data": {
      "image/png": "[encoded data removed]",
      "text/plain": [
       "<Figure size 800x800 with 1 Axes>"
      ]
     },
     "metadata": {},
     "output_type": "display_data"
    }
   ],
   "source": [
    "# Plot map\n",
    "fig, ax = ox.plot_graph(graph, bgcolor='white', node_color='black', edge_color='grey', node_size=2)"
   ]
  },
  {
   "cell_type": "code",
   "execution_count": 17,
   "id": "7db5e541",
   "metadata": {},
   "outputs": [
    {
     "data": {
      "image/png": "[encoded data removed]",
      "text/plain": [
       "<Figure size 800x800 with 1 Axes>"
      ]
     },
     "metadata": {},
     "output_type": "display_data"
    }
   ],
   "source": [
    "fig, Or_highways = ox.plot_graph(graph, bgcolor='white', node_color='black', edge_color='grey', node_size=2)"
   ]
  },
  {
   "cell_type": "code",
   "execution_count": null,
   "id": "94d3431b",
   "metadata": {},
   "outputs": [],
   "source": []
  },
  {
   "cell_type": "markdown",
   "id": "f7dd8ea8",
   "metadata": {},
   "source": [
    "## Task 2"
   ]
  },
  {
   "cell_type": "code",
   "execution_count": 18,
   "id": "f476b270",
   "metadata": {},
   "outputs": [],
   "source": [
    "cities = gpd.read_file('C:/Users/Dalton/Desktop/School/Winter_2023/GIS_490/Assignment_3/data/oregon_cities/oregon_cities.shp')"
   ]
  },
  {
   "cell_type": "code",
   "execution_count": 19,
   "id": "2474d0a4",
   "metadata": {},
   "outputs": [
    {
     "data": {
      "text/plain": [
       "<Geographic 2D CRS: EPSG:4326>\n",
       "Name: WGS 84\n",
       "Axis Info [ellipsoidal]:\n",
       "- Lat[north]: Geodetic latitude (degree)\n",
       "- Lon[east]: Geodetic longitude (degree)\n",
       "Area of Use:\n",
       "- name: World.\n",
       "- bounds: (-180.0, -90.0, 180.0, 90.0)\n",
       "Datum: World Geodetic System 1984 ensemble\n",
       "- Ellipsoid: WGS 84\n",
       "- Prime Meridian: Greenwich"
      ]
     },
     "execution_count": 19,
     "metadata": {},
     "output_type": "execute_result"
    }
   ],
   "source": [
    "cities.crs"
   ]
  },
  {
   "cell_type": "markdown",
   "id": "11ab7a5a",
   "metadata": {},
   "source": [
    "#### a) Reproject the city GeoDataFrame to UTM Zone 10 N."
   ]
  },
  {
   "cell_type": "code",
   "execution_count": 20,
   "id": "ebb20e9b",
   "metadata": {},
   "outputs": [],
   "source": [
    "cities_repro = cities.to_crs('EPSG:32610')"
   ]
  },
  {
   "cell_type": "code",
   "execution_count": 21,
   "id": "c78743bb",
   "metadata": {},
   "outputs": [
    {
     "data": {
      "text/plain": [
       "<Derived Projected CRS: EPSG:32610>\n",
       "Name: WGS 84 / UTM zone 10N\n",
       "Axis Info [cartesian]:\n",
       "- E[east]: Easting (metre)\n",
       "- N[north]: Northing (metre)\n",
       "Area of Use:\n",
       "- name: Between 126°W and 120°W, northern hemisphere between equator and 84°N, onshore and offshore. Canada - British Columbia (BC); Northwest Territories (NWT); Nunavut; Yukon. United States (USA) - Alaska (AK).\n",
       "- bounds: (-126.0, 0.0, -120.0, 84.0)\n",
       "Coordinate Operation:\n",
       "- name: UTM zone 10N\n",
       "- method: Transverse Mercator\n",
       "Datum: World Geodetic System 1984 ensemble\n",
       "- Ellipsoid: WGS 84\n",
       "- Prime Meridian: Greenwich"
      ]
     },
     "execution_count": 21,
     "metadata": {},
     "output_type": "execute_result"
    }
   ],
   "source": [
    "cities_repro.crs"
   ]
  },
  {
   "cell_type": "code",
   "execution_count": 22,
   "id": "ecdf2510",
   "metadata": {},
   "outputs": [
    {
     "data": {
      "text/plain": [
       "<bound method NDFrame.head of                    City    lat     lon                        geometry\n",
       "0    Adair Village city  44.67 -123.22  POINT (482561.392 4946316.184)\n",
       "1                 Adams  45.77 -118.56  POINT (845212.127 5078087.252)\n",
       "2                Adrian  43.74 -117.07  POINT (977541.425 4860113.062)\n",
       "3                Albany  44.63 -123.10  POINT (492067.910 4941854.290)\n",
       "4                 Aloha  45.49 -122.87  POINT (510158.282 5037393.753)\n",
       "..                  ...    ...     ...                             ...\n",
       "372        Wood Village  45.54 -122.42  POINT (545281.434 5043103.988)\n",
       "373            Woodburn  45.15 -122.86  POINT (511005.313 4999623.251)\n",
       "374             Yachats  44.31 -124.10  POINT (412268.825 4906893.114)\n",
       "375             Yamhill  45.34 -123.19  POINT (485113.923 5020738.776)\n",
       "376            Yoncalla  43.60 -123.29  POINT (476593.869 4827488.132)\n",
       "\n",
       "[377 rows x 4 columns]>"
      ]
     },
     "execution_count": 22,
     "metadata": {},
     "output_type": "execute_result"
    }
   ],
   "source": [
    "cities_repro.head"
   ]
  },
  {
   "cell_type": "markdown",
   "id": "6944119c",
   "metadata": {},
   "source": [
    "#### b) Choose four cities in Oregon (the more spread out the better!) and compute the Euclidean distance (in km) between each pair.\n"
   ]
  },
  {
   "cell_type": "markdown",
   "id": "eee932be",
   "metadata": {},
   "source": [
    "Cities will be Eugene, Portland, Bend, Florence"
   ]
  },
  {
   "cell_type": "code",
   "execution_count": 23,
   "id": "2d6716ee",
   "metadata": {},
   "outputs": [],
   "source": [
    "eugene = cities_repro[cities_repro['City'] == 'Eugene'].reset_index()\n",
    "bend = cities_repro[cities_repro['City'] == 'Bend'].reset_index()\n",
    "portland = cities_repro[cities_repro['City'] == 'Portland'].reset_index()\n",
    "florence = cities_repro[cities_repro['City'] == 'Florence'].reset_index()"
   ]
  },
  {
   "cell_type": "code",
   "execution_count": 24,
   "id": "015e1045",
   "metadata": {},
   "outputs": [],
   "source": [
    "eugene_bend_euc = eugene.distance(bend).values[0] / 1000"
   ]
  },
  {
   "cell_type": "code",
   "execution_count": 25,
   "id": "90be2cfe",
   "metadata": {},
   "outputs": [
    {
     "data": {
      "text/plain": [
       "144.97607871968486"
      ]
     },
     "execution_count": 25,
     "metadata": {},
     "output_type": "execute_result"
    }
   ],
   "source": [
    "eugene_bend_euc"
   ]
  },
  {
   "cell_type": "code",
   "execution_count": 26,
   "id": "861a23ee",
   "metadata": {},
   "outputs": [],
   "source": [
    "eugene_portland_euc = eugene.distance(portland).values[0] / 1000"
   ]
  },
  {
   "cell_type": "code",
   "execution_count": 27,
   "id": "c388e020",
   "metadata": {},
   "outputs": [
    {
     "data": {
      "text/plain": [
       "168.5528659345418"
      ]
     },
     "execution_count": 27,
     "metadata": {},
     "output_type": "execute_result"
    }
   ],
   "source": [
    "eugene_portland_euc"
   ]
  },
  {
   "cell_type": "code",
   "execution_count": 28,
   "id": "eba3445f",
   "metadata": {},
   "outputs": [],
   "source": [
    "eugene_florence_euc = eugene.distance(florence).values[0] / 1000"
   ]
  },
  {
   "cell_type": "code",
   "execution_count": 29,
   "id": "528e3d7e",
   "metadata": {},
   "outputs": [
    {
     "data": {
      "text/plain": [
       "79.72147287592776"
      ]
     },
     "execution_count": 29,
     "metadata": {},
     "output_type": "execute_result"
    }
   ],
   "source": [
    "eugene_florence_euc"
   ]
  },
  {
   "cell_type": "code",
   "execution_count": 30,
   "id": "13a6f7e8",
   "metadata": {},
   "outputs": [],
   "source": [
    "bend_portland_euc = bend.distance(portland).values[0] / 1000"
   ]
  },
  {
   "cell_type": "code",
   "execution_count": 31,
   "id": "2e62491a",
   "metadata": {},
   "outputs": [
    {
     "data": {
      "text/plain": [
       "195.61318090009243"
      ]
     },
     "execution_count": 31,
     "metadata": {},
     "output_type": "execute_result"
    }
   ],
   "source": [
    "bend_portland_euc"
   ]
  },
  {
   "cell_type": "code",
   "execution_count": 32,
   "id": "44fa020b",
   "metadata": {},
   "outputs": [],
   "source": [
    "bend_florence_euc = bend.distance(florence).values[0] / 1000"
   ]
  },
  {
   "cell_type": "code",
   "execution_count": 33,
   "id": "0d9023b1",
   "metadata": {},
   "outputs": [
    {
     "data": {
      "text/plain": [
       "224.53011545412136"
      ]
     },
     "execution_count": 33,
     "metadata": {},
     "output_type": "execute_result"
    }
   ],
   "source": [
    "bend_florence_euc"
   ]
  },
  {
   "cell_type": "code",
   "execution_count": 34,
   "id": "54a02f79",
   "metadata": {},
   "outputs": [],
   "source": [
    "portland_florence_euc = portland.distance(florence).values[0] / 1000"
   ]
  },
  {
   "cell_type": "code",
   "execution_count": 35,
   "id": "8058dafd",
   "metadata": {},
   "outputs": [
    {
     "data": {
      "text/plain": [
       "207.34848833251576"
      ]
     },
     "execution_count": 35,
     "metadata": {},
     "output_type": "execute_result"
    }
   ],
   "source": [
    "portland_florence_euc"
   ]
  },
  {
   "cell_type": "markdown",
   "id": "8f72c26e",
   "metadata": {},
   "source": [
    "Eugene to Bend = 144.98 km, Eugene to Portland = 168.55 km, Eugene to Florence = 79.72 km, Bend to Portland = 195.61, Bend to Florence = 224.53 km,\n",
    "Portland to Florence = 207.35 km"
   ]
  },
  {
   "cell_type": "markdown",
   "id": "03d4617c",
   "metadata": {},
   "source": [
    "#### c) List the nearest node for each of the four cities."
   ]
  },
  {
   "cell_type": "code",
   "execution_count": 36,
   "id": "525a4413",
   "metadata": {},
   "outputs": [],
   "source": [
    "#orig_node = ox.distance.nearest_nodes(graph_proj, X=orig_xy[1], Y=orig_xy[0], return_dist=False)"
   ]
  },
  {
   "cell_type": "code",
   "execution_count": null,
   "id": "dfc38856",
   "metadata": {},
   "outputs": [],
   "source": []
  },
  {
   "cell_type": "code",
   "execution_count": 37,
   "id": "07f1df9c",
   "metadata": {},
   "outputs": [],
   "source": [
    "#orig_xy = [condon_hall['centroid'].y.values[0], condon_hall['centroid'].x.values[0]]\n"
   ]
  },
  {
   "cell_type": "markdown",
   "id": "d850f40b",
   "metadata": {},
   "source": [
    "#### Eugene"
   ]
  },
  {
   "cell_type": "code",
   "execution_count": 38,
   "id": "1d36d8de",
   "metadata": {},
   "outputs": [],
   "source": [
    "# Get coordinates of Eugene\n",
    "Eugene_Co = cities_repro[cities_repro['City'] == 'Eugene'].reset_index()"
   ]
  },
  {
   "cell_type": "code",
   "execution_count": 39,
   "id": "7b7c9e77",
   "metadata": {},
   "outputs": [],
   "source": [
    "from shapely.geometry import Point, LineString, Polygon, MultiPolygon, MultiLineString"
   ]
  },
  {
   "cell_type": "code",
   "execution_count": 40,
   "id": "c0e8e1b7",
   "metadata": {},
   "outputs": [],
   "source": [
    "# Centriod of Eugene\n",
    "Eugene_Co['centroid'] = Eugene_Co['geometry'].apply(\n",
    " lambda x: x.centroid if type(x) == Polygon else (\n",
    " x.centroid if type(x) == MultiPolygon else x))"
   ]
  },
  {
   "cell_type": "code",
   "execution_count": 41,
   "id": "d69266b4",
   "metadata": {},
   "outputs": [],
   "source": [
    "# Get x and y coordinates of Eugene\n",
    "Eugene_xy = [Eugene_Co['centroid'].y.values[0], Eugene_Co['centroid'].x.values[0]]"
   ]
  },
  {
   "cell_type": "code",
   "execution_count": 42,
   "id": "9f5c10bc",
   "metadata": {},
   "outputs": [
    {
     "name": "stdout",
     "output_type": "stream",
     "text": [
      "[4878543.942920262, 490388.80726763327]\n"
     ]
    }
   ],
   "source": [
    "print(Eugene_xy)"
   ]
  },
  {
   "cell_type": "code",
   "execution_count": 43,
   "id": "3f5963d2",
   "metadata": {},
   "outputs": [],
   "source": [
    "# Find the node in the graph that is closest to the origin point (eugene)\n",
    "Eugene_closest_node = ox.distance.nearest_nodes(graph, X=Eugene_xy[1], Y=Eugene_xy[0], return_dist=False)\n",
    "\n",
    "# Find the node in the graph that is closest to the target point\n",
    "#target_node = ox.distance.nearest_nodes(graph_proj, X=target_xy[1], Y=target_xy[0], return_dist=False)"
   ]
  },
  {
   "cell_type": "code",
   "execution_count": 44,
   "id": "d17e03e5",
   "metadata": {},
   "outputs": [
    {
     "data": {
      "text/plain": [
       "5888"
      ]
     },
     "execution_count": 44,
     "metadata": {},
     "output_type": "execute_result"
    }
   ],
   "source": [
    "Eugene_closest_node"
   ]
  },
  {
   "cell_type": "code",
   "execution_count": null,
   "id": "6f76ee6c",
   "metadata": {},
   "outputs": [],
   "source": []
  },
  {
   "cell_type": "markdown",
   "id": "8a1ed785",
   "metadata": {},
   "source": [
    "#### Bend"
   ]
  },
  {
   "cell_type": "code",
   "execution_count": 45,
   "id": "c4b521dd",
   "metadata": {},
   "outputs": [],
   "source": [
    "# Get coordinates of Bend\n",
    "bend_Co = cities_repro[cities_repro['City'] == 'Bend'].reset_index()"
   ]
  },
  {
   "cell_type": "code",
   "execution_count": 46,
   "id": "d02685e0",
   "metadata": {},
   "outputs": [],
   "source": [
    "# Centriod of Bend\n",
    "bend_Co['centroid'] = bend_Co['geometry'].apply(\n",
    " lambda x: x.centroid if type(x) == Polygon else (\n",
    " x.centroid if type(x) == MultiPolygon else x))"
   ]
  },
  {
   "cell_type": "code",
   "execution_count": 47,
   "id": "22ae412c",
   "metadata": {},
   "outputs": [],
   "source": [
    "# Get x and y coordinates of Bend\n",
    "bend_xy = [bend_Co['centroid'].y.values[0], bend_Co['centroid'].x.values[0]]"
   ]
  },
  {
   "cell_type": "code",
   "execution_count": 48,
   "id": "a90cfd82",
   "metadata": {},
   "outputs": [
    {
     "name": "stdout",
     "output_type": "stream",
     "text": [
      "[4879925.37734699, 635358.3041966801]\n"
     ]
    }
   ],
   "source": [
    "print(bend_xy)"
   ]
  },
  {
   "cell_type": "code",
   "execution_count": 49,
   "id": "a53c7db9",
   "metadata": {},
   "outputs": [],
   "source": [
    "# Find the node in the graph that is closest to the origin point (bend)\n",
    "bend_closest_node = ox.distance.nearest_nodes(graph, X=bend_xy[1], Y=bend_xy[0], return_dist=False)"
   ]
  },
  {
   "cell_type": "code",
   "execution_count": 50,
   "id": "cdbad6b7",
   "metadata": {},
   "outputs": [
    {
     "data": {
      "text/plain": [
       "14709"
      ]
     },
     "execution_count": 50,
     "metadata": {},
     "output_type": "execute_result"
    }
   ],
   "source": [
    "bend_closest_node"
   ]
  },
  {
   "cell_type": "code",
   "execution_count": null,
   "id": "72d71048",
   "metadata": {},
   "outputs": [],
   "source": []
  },
  {
   "cell_type": "markdown",
   "id": "12d46afb",
   "metadata": {},
   "source": [
    "#### portland"
   ]
  },
  {
   "cell_type": "code",
   "execution_count": 51,
   "id": "359456db",
   "metadata": {},
   "outputs": [],
   "source": [
    "# Get coordinates of portland\n",
    "portland_Co = cities_repro[cities_repro['City'] == 'Portland'].reset_index()"
   ]
  },
  {
   "cell_type": "code",
   "execution_count": 52,
   "id": "a08925bc",
   "metadata": {},
   "outputs": [],
   "source": [
    "# Centriod of Portland\n",
    "portland_Co['centroid'] = portland_Co['geometry'].apply(\n",
    " lambda x: x.centroid if type(x) == Polygon else (\n",
    " x.centroid if type(x) == MultiPolygon else x))"
   ]
  },
  {
   "cell_type": "code",
   "execution_count": 53,
   "id": "e409f499",
   "metadata": {},
   "outputs": [],
   "source": [
    "# Get x and y coordinates of Portland\n",
    "portland_xy = [portland_Co['centroid'].y.values[0], portland_Co['centroid'].x.values[0]]"
   ]
  },
  {
   "cell_type": "code",
   "execution_count": 54,
   "id": "d0adc00b",
   "metadata": {},
   "outputs": [
    {
     "name": "stdout",
     "output_type": "stream",
     "text": [
      "[5042999.972456336, 527325.008533838]\n"
     ]
    }
   ],
   "source": [
    "print(portland_xy)"
   ]
  },
  {
   "cell_type": "code",
   "execution_count": 55,
   "id": "20fe99aa",
   "metadata": {},
   "outputs": [],
   "source": [
    "# Find the node in the graph that is closest to the origin point (portland)\n",
    "portland_closest_node = ox.distance.nearest_nodes(graph, X=portland_xy[1], Y=portland_xy[0], return_dist=False)"
   ]
  },
  {
   "cell_type": "code",
   "execution_count": 56,
   "id": "4529be8b",
   "metadata": {},
   "outputs": [
    {
     "data": {
      "text/plain": [
       "16881"
      ]
     },
     "execution_count": 56,
     "metadata": {},
     "output_type": "execute_result"
    }
   ],
   "source": [
    "portland_closest_node"
   ]
  },
  {
   "cell_type": "code",
   "execution_count": null,
   "id": "6b06106c",
   "metadata": {},
   "outputs": [],
   "source": []
  },
  {
   "cell_type": "markdown",
   "id": "fad8e205",
   "metadata": {},
   "source": [
    "#### florence"
   ]
  },
  {
   "cell_type": "code",
   "execution_count": 57,
   "id": "02c9f19a",
   "metadata": {},
   "outputs": [],
   "source": [
    "# Get coordinates of florence\n",
    "florence_Co = cities_repro[cities_repro['City'] == 'Florence'].reset_index()"
   ]
  },
  {
   "cell_type": "code",
   "execution_count": 58,
   "id": "245fcfc8",
   "metadata": {},
   "outputs": [],
   "source": [
    "# Centriod of florence\n",
    "florence_Co['centroid'] = florence_Co['geometry'].apply(\n",
    " lambda x: x.centroid if type(x) == Polygon else (\n",
    " x.centroid if type(x) == MultiPolygon else x))"
   ]
  },
  {
   "cell_type": "code",
   "execution_count": 59,
   "id": "f7f40b2c",
   "metadata": {},
   "outputs": [],
   "source": [
    "# Get x and y coordinates of florence\n",
    "florence_xy = [florence_Co['centroid'].y.values[0], florence_Co['centroid'].x.values[0]]"
   ]
  },
  {
   "cell_type": "code",
   "execution_count": 60,
   "id": "29dbafa1",
   "metadata": {},
   "outputs": [
    {
     "name": "stdout",
     "output_type": "stream",
     "text": [
      "[4871361.019215841, 410991.5853731378]\n"
     ]
    }
   ],
   "source": [
    "print(florence_xy)"
   ]
  },
  {
   "cell_type": "code",
   "execution_count": 61,
   "id": "ce312611",
   "metadata": {},
   "outputs": [],
   "source": [
    "# Find the node in the graph that is closest to the origin point (florence)\n",
    "florence_closest_node = ox.distance.nearest_nodes(graph, X=florence_xy[1], Y=florence_xy[0], return_dist=False)"
   ]
  },
  {
   "cell_type": "code",
   "execution_count": 62,
   "id": "4541a56d",
   "metadata": {},
   "outputs": [
    {
     "data": {
      "text/plain": [
       "18079"
      ]
     },
     "execution_count": 62,
     "metadata": {},
     "output_type": "execute_result"
    }
   ],
   "source": [
    "florence_closest_node"
   ]
  },
  {
   "cell_type": "markdown",
   "id": "56c28b3f",
   "metadata": {},
   "source": [
    "#### eugene = 5888, bend = 14709, portland = 16881, florence = 18079"
   ]
  },
  {
   "cell_type": "markdown",
   "id": "1fddc56d",
   "metadata": {},
   "source": [
    "#### d) What is the shortest path length (i.e. nx.shortest_path_length) between three pairs of cities (in km)?"
   ]
  },
  {
   "cell_type": "code",
   "execution_count": 63,
   "id": "4e0ab0db",
   "metadata": {},
   "outputs": [],
   "source": [
    "# Eugene-Bend, Eugene-Portland, Eugene-Florence"
   ]
  },
  {
   "cell_type": "code",
   "execution_count": 64,
   "id": "3446f23b",
   "metadata": {},
   "outputs": [
    {
     "ename": "IndexError",
     "evalue": "tuple index out of range",
     "output_type": "error",
     "traceback": [
      "\u001b[1;31m---------------------------------------------------------------------------\u001b[0m",
      "\u001b[1;31mIndexError\u001b[0m                                Traceback (most recent call last)",
      "Cell \u001b[1;32mIn[64], line 2\u001b[0m\n\u001b[0;32m      1\u001b[0m \u001b[38;5;66;03m#eugene-bend length meter\u001b[39;00m\n\u001b[1;32m----> 2\u001b[0m eugene_bend_length_m \u001b[38;5;241m=\u001b[39m \u001b[43mnx\u001b[49m\u001b[38;5;241;43m.\u001b[39;49m\u001b[43mshortest_path_length\u001b[49m\u001b[43m(\u001b[49m\u001b[43mG\u001b[49m\u001b[38;5;241;43m=\u001b[39;49m\u001b[43mgraph\u001b[49m\u001b[43m,\u001b[49m\u001b[43m \u001b[49m\u001b[43msource\u001b[49m\u001b[38;5;241;43m=\u001b[39;49m\u001b[43mEugene_closest_node\u001b[49m\u001b[43m,\u001b[49m\u001b[43m \u001b[49m\u001b[43mtarget\u001b[49m\u001b[38;5;241;43m=\u001b[39;49m\u001b[43mbend_closest_node\u001b[49m\u001b[43m,\u001b[49m\u001b[43m \u001b[49m\u001b[43mweight\u001b[49m\u001b[38;5;241;43m=\u001b[39;49m\u001b[38;5;124;43m'\u001b[39;49m\u001b[38;5;124;43mlength\u001b[39;49m\u001b[38;5;124;43m'\u001b[39;49m\u001b[43m)\u001b[49m\n",
      "File \u001b[1;32m~\\.gds\\lib\\site-packages\\networkx\\classes\\backends.py:134\u001b[0m, in \u001b[0;36m_dispatch.<locals>.wrapper\u001b[1;34m(*args, **kwds)\u001b[0m\n\u001b[0;32m    132\u001b[0m \u001b[38;5;129m@functools\u001b[39m\u001b[38;5;241m.\u001b[39mwraps(func)\n\u001b[0;32m    133\u001b[0m \u001b[38;5;28;01mdef\u001b[39;00m \u001b[38;5;21mwrapper\u001b[39m(\u001b[38;5;241m*\u001b[39margs, \u001b[38;5;241m*\u001b[39m\u001b[38;5;241m*\u001b[39mkwds):\n\u001b[1;32m--> 134\u001b[0m     graph \u001b[38;5;241m=\u001b[39m \u001b[43margs\u001b[49m\u001b[43m[\u001b[49m\u001b[38;5;241;43m0\u001b[39;49m\u001b[43m]\u001b[49m\n\u001b[0;32m    135\u001b[0m     \u001b[38;5;28;01mif\u001b[39;00m \u001b[38;5;28mhasattr\u001b[39m(graph, \u001b[38;5;124m\"\u001b[39m\u001b[38;5;124m__networkx_plugin__\u001b[39m\u001b[38;5;124m\"\u001b[39m) \u001b[38;5;129;01mand\u001b[39;00m plugins:\n\u001b[0;32m    136\u001b[0m         plugin_name \u001b[38;5;241m=\u001b[39m graph\u001b[38;5;241m.\u001b[39m__networkx_plugin__\n",
      "\u001b[1;31mIndexError\u001b[0m: tuple index out of range"
     ]
    }
   ],
   "source": [
    "#eugene-bend length meter\n",
    "eugene_bend_length_m = nx.shortest_path_length(G=graph, source=Eugene_closest_node, target=bend_closest_node, weight='length')"
   ]
  },
  {
   "cell_type": "code",
   "execution_count": null,
   "id": "668299fd",
   "metadata": {},
   "outputs": [],
   "source": [
    "#eugene-bend length km\n",
    "eugene_bend_length_km = eugene_bend_length_m / 1000"
   ]
  },
  {
   "cell_type": "code",
   "execution_count": null,
   "id": "ff2ae2b4",
   "metadata": {},
   "outputs": [],
   "source": [
    "#eugene-bend route\n",
    "eugene_bend_route = nx.shortest_path(G=graph, source=Eugene_closest_node, target=bend_closest_node, weight='length')"
   ]
  },
  {
   "cell_type": "code",
   "execution_count": null,
   "id": "e5cb84ac",
   "metadata": {},
   "outputs": [],
   "source": []
  },
  {
   "cell_type": "code",
   "execution_count": null,
   "id": "d1c19c61",
   "metadata": {},
   "outputs": [],
   "source": [
    "#eugene-portland length meter\n",
    "eugene_portland_length_m = nx.shortest_path_length(G=graph, source=Eugene_closest_node, target=bend_closest_node, weight='length')"
   ]
  },
  {
   "cell_type": "code",
   "execution_count": null,
   "id": "9847ae88",
   "metadata": {},
   "outputs": [],
   "source": [
    "#eugene-portland length km\n",
    "eugene_portland_length_km = eugene_portland_length_m / 1000"
   ]
  },
  {
   "cell_type": "code",
   "execution_count": null,
   "id": "d8450c28",
   "metadata": {},
   "outputs": [],
   "source": [
    "#eugene-portland route\n",
    "eugene_portland_route = nx.shortest_path(G=graph, source=Eugene_closest_node, target=portland_closest_node, weight='length')"
   ]
  },
  {
   "cell_type": "code",
   "execution_count": null,
   "id": "7e61b910",
   "metadata": {},
   "outputs": [],
   "source": []
  },
  {
   "cell_type": "code",
   "execution_count": null,
   "id": "3b8295ed",
   "metadata": {},
   "outputs": [],
   "source": [
    "#eugene-florence length meter\n",
    "eugene_florence_length_m = nx.shortest_path_length(G=graph, source=Eugene_closest_node, target=florence_closest_node, weight='length')"
   ]
  },
  {
   "cell_type": "code",
   "execution_count": null,
   "id": "a8753f42",
   "metadata": {},
   "outputs": [],
   "source": [
    "#eugene-florence length km\n",
    "eugene_florence_length_km = eugene_florence_length_m / 1000"
   ]
  },
  {
   "cell_type": "code",
   "execution_count": null,
   "id": "f6d15310",
   "metadata": {},
   "outputs": [],
   "source": [
    "#eugene-florence route\n",
    "eugene_florence_route = nx.shortest_path(G=graph, source=Eugene_closest_node, target=florence_closest_node, weight='length')"
   ]
  },
  {
   "cell_type": "code",
   "execution_count": null,
   "id": "0a6bd335",
   "metadata": {},
   "outputs": [],
   "source": []
  },
  {
   "cell_type": "markdown",
   "id": "4962d880",
   "metadata": {},
   "source": [
    "# The Strugle"
   ]
  },
  {
   "cell_type": "code",
   "execution_count": null,
   "id": "674e832c",
   "metadata": {},
   "outputs": [],
   "source": []
  },
  {
   "cell_type": "code",
   "execution_count": 65,
   "id": "6d665520",
   "metadata": {},
   "outputs": [
    {
     "data": {
      "text/html": [
       "<div>\n",
       "<style scoped>\n",
       "    .dataframe tbody tr th:only-of-type {\n",
       "        vertical-align: middle;\n",
       "    }\n",
       "\n",
       "    .dataframe tbody tr th {\n",
       "        vertical-align: top;\n",
       "    }\n",
       "\n",
       "    .dataframe thead th {\n",
       "        text-align: right;\n",
       "    }\n",
       "</style>\n",
       "<table border=\"1\" class=\"dataframe\">\n",
       "  <thead>\n",
       "    <tr style=\"text-align: right;\">\n",
       "      <th></th>\n",
       "      <th>nodeID</th>\n",
       "      <th>x</th>\n",
       "      <th>y</th>\n",
       "      <th>geometry</th>\n",
       "    </tr>\n",
       "    <tr>\n",
       "      <th>osmid</th>\n",
       "      <th></th>\n",
       "      <th></th>\n",
       "      <th></th>\n",
       "      <th></th>\n",
       "    </tr>\n",
       "  </thead>\n",
       "  <tbody>\n",
       "    <tr>\n",
       "      <th>0</th>\n",
       "      <td>0</td>\n",
       "      <td>474471.651693</td>\n",
       "      <td>4.813048e+06</td>\n",
       "      <td>POINT (474471.652 4813047.859)</td>\n",
       "    </tr>\n",
       "    <tr>\n",
       "      <th>1</th>\n",
       "      <td>1</td>\n",
       "      <td>474446.659714</td>\n",
       "      <td>4.813218e+06</td>\n",
       "      <td>POINT (474446.660 4813218.049)</td>\n",
       "    </tr>\n",
       "    <tr>\n",
       "      <th>4</th>\n",
       "      <td>4</td>\n",
       "      <td>474465.724070</td>\n",
       "      <td>4.817570e+06</td>\n",
       "      <td>POINT (474465.724 4817570.071)</td>\n",
       "    </tr>\n",
       "    <tr>\n",
       "      <th>2</th>\n",
       "      <td>2</td>\n",
       "      <td>473978.436524</td>\n",
       "      <td>4.814030e+06</td>\n",
       "      <td>POINT (473978.437 4814030.307)</td>\n",
       "    </tr>\n",
       "    <tr>\n",
       "      <th>3</th>\n",
       "      <td>3</td>\n",
       "      <td>474305.533925</td>\n",
       "      <td>4.813547e+06</td>\n",
       "      <td>POINT (474305.534 4813546.860)</td>\n",
       "    </tr>\n",
       "    <tr>\n",
       "      <th>...</th>\n",
       "      <td>...</td>\n",
       "      <td>...</td>\n",
       "      <td>...</td>\n",
       "      <td>...</td>\n",
       "    </tr>\n",
       "    <tr>\n",
       "      <th>19787</th>\n",
       "      <td>19787</td>\n",
       "      <td>985086.134288</td>\n",
       "      <td>4.900362e+06</td>\n",
       "      <td>POINT (985086.134 4900362.375)</td>\n",
       "    </tr>\n",
       "    <tr>\n",
       "      <th>19788</th>\n",
       "      <td>19788</td>\n",
       "      <td>486748.068451</td>\n",
       "      <td>5.005300e+06</td>\n",
       "      <td>POINT (486748.068 5005299.982)</td>\n",
       "    </tr>\n",
       "    <tr>\n",
       "      <th>19789</th>\n",
       "      <td>19789</td>\n",
       "      <td>486103.495526</td>\n",
       "      <td>5.005312e+06</td>\n",
       "      <td>POINT (486103.496 5005312.082)</td>\n",
       "    </tr>\n",
       "    <tr>\n",
       "      <th>19791</th>\n",
       "      <td>19791</td>\n",
       "      <td>475494.478782</td>\n",
       "      <td>4.697925e+06</td>\n",
       "      <td>POINT (475494.479 4697925.169)</td>\n",
       "    </tr>\n",
       "    <tr>\n",
       "      <th>19792</th>\n",
       "      <td>19792</td>\n",
       "      <td>475856.821534</td>\n",
       "      <td>4.698377e+06</td>\n",
       "      <td>POINT (475856.822 4698376.962)</td>\n",
       "    </tr>\n",
       "  </tbody>\n",
       "</table>\n",
       "<p>19793 rows × 4 columns</p>\n",
       "</div>"
      ],
      "text/plain": [
       "      nodeID              x             y                        geometry\n",
       "osmid                                                                    \n",
       "0          0  474471.651693  4.813048e+06  POINT (474471.652 4813047.859)\n",
       "1          1  474446.659714  4.813218e+06  POINT (474446.660 4813218.049)\n",
       "4          4  474465.724070  4.817570e+06  POINT (474465.724 4817570.071)\n",
       "2          2  473978.436524  4.814030e+06  POINT (473978.437 4814030.307)\n",
       "3          3  474305.533925  4.813547e+06  POINT (474305.534 4813546.860)\n",
       "...      ...            ...           ...                             ...\n",
       "19787  19787  985086.134288  4.900362e+06  POINT (985086.134 4900362.375)\n",
       "19788  19788  486748.068451  5.005300e+06  POINT (486748.068 5005299.982)\n",
       "19789  19789  486103.495526  5.005312e+06  POINT (486103.496 5005312.082)\n",
       "19791  19791  475494.478782  4.697925e+06  POINT (475494.479 4697925.169)\n",
       "19792  19792  475856.821534  4.698377e+06  POINT (475856.822 4698376.962)\n",
       "\n",
       "[19793 rows x 4 columns]"
      ]
     },
     "execution_count": 65,
     "metadata": {},
     "output_type": "execute_result"
    }
   ],
   "source": [
    "nodes"
   ]
  },
  {
   "cell_type": "code",
   "execution_count": 66,
   "id": "a29c5848",
   "metadata": {},
   "outputs": [
    {
     "data": {
      "text/html": [
       "<div>\n",
       "<style scoped>\n",
       "    .dataframe tbody tr th:only-of-type {\n",
       "        vertical-align: middle;\n",
       "    }\n",
       "\n",
       "    .dataframe tbody tr th {\n",
       "        vertical-align: top;\n",
       "    }\n",
       "\n",
       "    .dataframe thead th {\n",
       "        text-align: right;\n",
       "    }\n",
       "</style>\n",
       "<table border=\"1\" class=\"dataframe\">\n",
       "  <thead>\n",
       "    <tr style=\"text-align: right;\">\n",
       "      <th></th>\n",
       "      <th>nodeID</th>\n",
       "      <th>x</th>\n",
       "      <th>y</th>\n",
       "      <th>geometry</th>\n",
       "    </tr>\n",
       "    <tr>\n",
       "      <th>osmid</th>\n",
       "      <th></th>\n",
       "      <th></th>\n",
       "      <th></th>\n",
       "      <th></th>\n",
       "    </tr>\n",
       "  </thead>\n",
       "  <tbody>\n",
       "    <tr>\n",
       "      <th>1</th>\n",
       "      <td>1</td>\n",
       "      <td>474446.659714</td>\n",
       "      <td>4.813218e+06</td>\n",
       "      <td>POINT (474446.660 4813218.049)</td>\n",
       "    </tr>\n",
       "    <tr>\n",
       "      <th>4</th>\n",
       "      <td>4</td>\n",
       "      <td>474465.724070</td>\n",
       "      <td>4.817570e+06</td>\n",
       "      <td>POINT (474465.724 4817570.071)</td>\n",
       "    </tr>\n",
       "    <tr>\n",
       "      <th>2</th>\n",
       "      <td>2</td>\n",
       "      <td>473978.436524</td>\n",
       "      <td>4.814030e+06</td>\n",
       "      <td>POINT (473978.437 4814030.307)</td>\n",
       "    </tr>\n",
       "    <tr>\n",
       "      <th>3</th>\n",
       "      <td>3</td>\n",
       "      <td>474305.533925</td>\n",
       "      <td>4.813547e+06</td>\n",
       "      <td>POINT (474305.534 4813546.860)</td>\n",
       "    </tr>\n",
       "    <tr>\n",
       "      <th>16888</th>\n",
       "      <td>16888</td>\n",
       "      <td>474512.793244</td>\n",
       "      <td>4.817899e+06</td>\n",
       "      <td>POINT (474512.793 4817899.420)</td>\n",
       "    </tr>\n",
       "    <tr>\n",
       "      <th>5</th>\n",
       "      <td>5</td>\n",
       "      <td>474587.224709</td>\n",
       "      <td>4.817822e+06</td>\n",
       "      <td>POINT (474587.225 4817821.543)</td>\n",
       "    </tr>\n",
       "    <tr>\n",
       "      <th>6</th>\n",
       "      <td>6</td>\n",
       "      <td>474594.518627</td>\n",
       "      <td>4.818099e+06</td>\n",
       "      <td>POINT (474594.519 4818099.102)</td>\n",
       "    </tr>\n",
       "    <tr>\n",
       "      <th>243</th>\n",
       "      <td>243</td>\n",
       "      <td>474601.838001</td>\n",
       "      <td>4.817819e+06</td>\n",
       "      <td>POINT (474601.838 4817818.763)</td>\n",
       "    </tr>\n",
       "    <tr>\n",
       "      <th>17004</th>\n",
       "      <td>17004</td>\n",
       "      <td>475376.490447</td>\n",
       "      <td>4.819415e+06</td>\n",
       "      <td>POINT (475376.490 4819414.776)</td>\n",
       "    </tr>\n",
       "  </tbody>\n",
       "</table>\n",
       "</div>"
      ],
      "text/plain": [
       "      nodeID              x             y                        geometry\n",
       "osmid                                                                    \n",
       "1          1  474446.659714  4.813218e+06  POINT (474446.660 4813218.049)\n",
       "4          4  474465.724070  4.817570e+06  POINT (474465.724 4817570.071)\n",
       "2          2  473978.436524  4.814030e+06  POINT (473978.437 4814030.307)\n",
       "3          3  474305.533925  4.813547e+06  POINT (474305.534 4813546.860)\n",
       "16888  16888  474512.793244  4.817899e+06  POINT (474512.793 4817899.420)\n",
       "5          5  474587.224709  4.817822e+06  POINT (474587.225 4817821.543)\n",
       "6          6  474594.518627  4.818099e+06  POINT (474594.519 4818099.102)\n",
       "243      243  474601.838001  4.817819e+06  POINT (474601.838 4817818.763)\n",
       "17004  17004  475376.490447  4.819415e+06  POINT (475376.490 4819414.776)"
      ]
     },
     "execution_count": 66,
     "metadata": {},
     "output_type": "execute_result"
    }
   ],
   "source": [
    "nodes.iloc[1:10]"
   ]
  },
  {
   "cell_type": "code",
   "execution_count": 67,
   "id": "3df0725d",
   "metadata": {},
   "outputs": [],
   "source": [
    "# Find the ten most northerly cities in Oregon\n",
    "nodes_sort = nodes.sort_values(by='osmid', ascending=True)"
   ]
  },
  {
   "cell_type": "code",
   "execution_count": 68,
   "id": "f9f1a7ff",
   "metadata": {},
   "outputs": [
    {
     "data": {
      "text/plain": [
       "<bound method NDFrame.head of       nodeID              x             y                        geometry\n",
       "osmid                                                                    \n",
       "0          0  474471.651693  4.813048e+06  POINT (474471.652 4813047.859)\n",
       "1          1  474446.659714  4.813218e+06  POINT (474446.660 4813218.049)\n",
       "2          2  473978.436524  4.814030e+06  POINT (473978.437 4814030.307)\n",
       "3          3  474305.533925  4.813547e+06  POINT (474305.534 4813546.860)\n",
       "4          4  474465.724070  4.817570e+06  POINT (474465.724 4817570.071)\n",
       "...      ...            ...           ...                             ...\n",
       "19788  19788  486748.068451  5.005300e+06  POINT (486748.068 5005299.982)\n",
       "19789  19789  486103.495526  5.005312e+06  POINT (486103.496 5005312.082)\n",
       "19790  19790  485932.090760  5.005458e+06  POINT (485932.091 5005457.706)\n",
       "19791  19791  475494.478782  4.697925e+06  POINT (475494.479 4697925.169)\n",
       "19792  19792  475856.821534  4.698377e+06  POINT (475856.822 4698376.962)\n",
       "\n",
       "[19793 rows x 4 columns]>"
      ]
     },
     "execution_count": 68,
     "metadata": {},
     "output_type": "execute_result"
    }
   ],
   "source": [
    "nodes_sort.head"
   ]
  },
  {
   "cell_type": "code",
   "execution_count": 69,
   "id": "4dd9861b",
   "metadata": {},
   "outputs": [
    {
     "data": {
      "text/html": [
       "<div>\n",
       "<style scoped>\n",
       "    .dataframe tbody tr th:only-of-type {\n",
       "        vertical-align: middle;\n",
       "    }\n",
       "\n",
       "    .dataframe tbody tr th {\n",
       "        vertical-align: top;\n",
       "    }\n",
       "\n",
       "    .dataframe thead th {\n",
       "        text-align: right;\n",
       "    }\n",
       "</style>\n",
       "<table border=\"1\" class=\"dataframe\">\n",
       "  <thead>\n",
       "    <tr style=\"text-align: right;\">\n",
       "      <th></th>\n",
       "      <th>nodeID</th>\n",
       "      <th>x</th>\n",
       "      <th>y</th>\n",
       "      <th>geometry</th>\n",
       "    </tr>\n",
       "    <tr>\n",
       "      <th>osmid</th>\n",
       "      <th></th>\n",
       "      <th></th>\n",
       "      <th></th>\n",
       "      <th></th>\n",
       "    </tr>\n",
       "  </thead>\n",
       "  <tbody>\n",
       "    <tr>\n",
       "      <th>14700</th>\n",
       "      <td>14700</td>\n",
       "      <td>518065.866923</td>\n",
       "      <td>5.011574e+06</td>\n",
       "      <td>POINT (518065.867 5011573.810)</td>\n",
       "    </tr>\n",
       "    <tr>\n",
       "      <th>14701</th>\n",
       "      <td>14701</td>\n",
       "      <td>478874.454724</td>\n",
       "      <td>4.904733e+06</td>\n",
       "      <td>POINT (478874.455 4904733.212)</td>\n",
       "    </tr>\n",
       "    <tr>\n",
       "      <th>14702</th>\n",
       "      <td>14702</td>\n",
       "      <td>502711.561672</td>\n",
       "      <td>5.016329e+06</td>\n",
       "      <td>POINT (502711.562 5016328.857)</td>\n",
       "    </tr>\n",
       "    <tr>\n",
       "      <th>14703</th>\n",
       "      <td>14703</td>\n",
       "      <td>507107.464986</td>\n",
       "      <td>5.018100e+06</td>\n",
       "      <td>POINT (507107.465 5018099.825)</td>\n",
       "    </tr>\n",
       "    <tr>\n",
       "      <th>14704</th>\n",
       "      <td>14704</td>\n",
       "      <td>635218.532314</td>\n",
       "      <td>4.885388e+06</td>\n",
       "      <td>POINT (635218.532 4885388.487)</td>\n",
       "    </tr>\n",
       "    <tr>\n",
       "      <th>14705</th>\n",
       "      <td>14705</td>\n",
       "      <td>635519.979517</td>\n",
       "      <td>4.884787e+06</td>\n",
       "      <td>POINT (635519.980 4884786.899)</td>\n",
       "    </tr>\n",
       "    <tr>\n",
       "      <th>14706</th>\n",
       "      <td>14706</td>\n",
       "      <td>503078.539994</td>\n",
       "      <td>5.016319e+06</td>\n",
       "      <td>POINT (503078.540 5016319.255)</td>\n",
       "    </tr>\n",
       "    <tr>\n",
       "      <th>14707</th>\n",
       "      <td>14707</td>\n",
       "      <td>634753.437194</td>\n",
       "      <td>4.875969e+06</td>\n",
       "      <td>POINT (634753.437 4875968.619)</td>\n",
       "    </tr>\n",
       "    <tr>\n",
       "      <th>14708</th>\n",
       "      <td>14708</td>\n",
       "      <td>634738.386647</td>\n",
       "      <td>4.875622e+06</td>\n",
       "      <td>POINT (634738.387 4875621.597)</td>\n",
       "    </tr>\n",
       "    <tr>\n",
       "      <th>14709</th>\n",
       "      <td>14709</td>\n",
       "      <td>635584.022534</td>\n",
       "      <td>4.880135e+06</td>\n",
       "      <td>POINT (635584.023 4880135.267)</td>\n",
       "    </tr>\n",
       "  </tbody>\n",
       "</table>\n",
       "</div>"
      ],
      "text/plain": [
       "      nodeID              x             y                        geometry\n",
       "osmid                                                                    \n",
       "14700  14700  518065.866923  5.011574e+06  POINT (518065.867 5011573.810)\n",
       "14701  14701  478874.454724  4.904733e+06  POINT (478874.455 4904733.212)\n",
       "14702  14702  502711.561672  5.016329e+06  POINT (502711.562 5016328.857)\n",
       "14703  14703  507107.464986  5.018100e+06  POINT (507107.465 5018099.825)\n",
       "14704  14704  635218.532314  4.885388e+06  POINT (635218.532 4885388.487)\n",
       "14705  14705  635519.979517  4.884787e+06  POINT (635519.980 4884786.899)\n",
       "14706  14706  503078.539994  5.016319e+06  POINT (503078.540 5016319.255)\n",
       "14707  14707  634753.437194  4.875969e+06  POINT (634753.437 4875968.619)\n",
       "14708  14708  634738.386647  4.875622e+06  POINT (634738.387 4875621.597)\n",
       "14709  14709  635584.022534  4.880135e+06  POINT (635584.023 4880135.267)"
      ]
     },
     "execution_count": 69,
     "metadata": {},
     "output_type": "execute_result"
    }
   ],
   "source": [
    "nodes_sort.iloc[14700:14710]"
   ]
  },
  {
   "cell_type": "code",
   "execution_count": 71,
   "id": "8600eead",
   "metadata": {},
   "outputs": [],
   "source": [
    "#14709 is b 5888 is e"
   ]
  },
  {
   "cell_type": "code",
   "execution_count": 72,
   "id": "2f212ba0",
   "metadata": {},
   "outputs": [
    {
     "data": {
      "text/html": [
       "<div>\n",
       "<style scoped>\n",
       "    .dataframe tbody tr th:only-of-type {\n",
       "        vertical-align: middle;\n",
       "    }\n",
       "\n",
       "    .dataframe tbody tr th {\n",
       "        vertical-align: top;\n",
       "    }\n",
       "\n",
       "    .dataframe thead th {\n",
       "        text-align: right;\n",
       "    }\n",
       "</style>\n",
       "<table border=\"1\" class=\"dataframe\">\n",
       "  <thead>\n",
       "    <tr style=\"text-align: right;\">\n",
       "      <th></th>\n",
       "      <th>nodeID</th>\n",
       "      <th>x</th>\n",
       "      <th>y</th>\n",
       "      <th>geometry</th>\n",
       "    </tr>\n",
       "    <tr>\n",
       "      <th>osmid</th>\n",
       "      <th></th>\n",
       "      <th></th>\n",
       "      <th></th>\n",
       "      <th></th>\n",
       "    </tr>\n",
       "  </thead>\n",
       "  <tbody>\n",
       "    <tr>\n",
       "      <th>5880</th>\n",
       "      <td>5880</td>\n",
       "      <td>558130.117959</td>\n",
       "      <td>5.009907e+06</td>\n",
       "      <td>POINT (558130.118 5009907.385)</td>\n",
       "    </tr>\n",
       "    <tr>\n",
       "      <th>5881</th>\n",
       "      <td>5881</td>\n",
       "      <td>550213.723811</td>\n",
       "      <td>5.022872e+06</td>\n",
       "      <td>POINT (550213.724 5022872.347)</td>\n",
       "    </tr>\n",
       "    <tr>\n",
       "      <th>5882</th>\n",
       "      <td>5882</td>\n",
       "      <td>550486.993554</td>\n",
       "      <td>5.023029e+06</td>\n",
       "      <td>POINT (550486.994 5023029.442)</td>\n",
       "    </tr>\n",
       "    <tr>\n",
       "      <th>5883</th>\n",
       "      <td>5883</td>\n",
       "      <td>550569.841282</td>\n",
       "      <td>5.023077e+06</td>\n",
       "      <td>POINT (550569.841 5023077.297)</td>\n",
       "    </tr>\n",
       "    <tr>\n",
       "      <th>5884</th>\n",
       "      <td>5884</td>\n",
       "      <td>502368.185814</td>\n",
       "      <td>4.878517e+06</td>\n",
       "      <td>POINT (502368.186 4878516.716)</td>\n",
       "    </tr>\n",
       "    <tr>\n",
       "      <th>5885</th>\n",
       "      <td>5885</td>\n",
       "      <td>504785.239914</td>\n",
       "      <td>4.878093e+06</td>\n",
       "      <td>POINT (504785.240 4878092.678)</td>\n",
       "    </tr>\n",
       "    <tr>\n",
       "      <th>5886</th>\n",
       "      <td>5886</td>\n",
       "      <td>491847.322498</td>\n",
       "      <td>4.877674e+06</td>\n",
       "      <td>POINT (491847.322 4877674.100)</td>\n",
       "    </tr>\n",
       "    <tr>\n",
       "      <th>5887</th>\n",
       "      <td>5887</td>\n",
       "      <td>491873.003846</td>\n",
       "      <td>4.877979e+06</td>\n",
       "      <td>POINT (491873.004 4877979.040)</td>\n",
       "    </tr>\n",
       "    <tr>\n",
       "      <th>5888</th>\n",
       "      <td>5888</td>\n",
       "      <td>491908.281651</td>\n",
       "      <td>4.878957e+06</td>\n",
       "      <td>POINT (491908.282 4878956.797)</td>\n",
       "    </tr>\n",
       "    <tr>\n",
       "      <th>5889</th>\n",
       "      <td>5889</td>\n",
       "      <td>492574.480872</td>\n",
       "      <td>4.697865e+06</td>\n",
       "      <td>POINT (492574.481 4697865.268)</td>\n",
       "    </tr>\n",
       "  </tbody>\n",
       "</table>\n",
       "</div>"
      ],
      "text/plain": [
       "      nodeID              x             y                        geometry\n",
       "osmid                                                                    \n",
       "5880    5880  558130.117959  5.009907e+06  POINT (558130.118 5009907.385)\n",
       "5881    5881  550213.723811  5.022872e+06  POINT (550213.724 5022872.347)\n",
       "5882    5882  550486.993554  5.023029e+06  POINT (550486.994 5023029.442)\n",
       "5883    5883  550569.841282  5.023077e+06  POINT (550569.841 5023077.297)\n",
       "5884    5884  502368.185814  4.878517e+06  POINT (502368.186 4878516.716)\n",
       "5885    5885  504785.239914  4.878093e+06  POINT (504785.240 4878092.678)\n",
       "5886    5886  491847.322498  4.877674e+06  POINT (491847.322 4877674.100)\n",
       "5887    5887  491873.003846  4.877979e+06  POINT (491873.004 4877979.040)\n",
       "5888    5888  491908.281651  4.878957e+06  POINT (491908.282 4878956.797)\n",
       "5889    5889  492574.480872  4.697865e+06  POINT (492574.481 4697865.268)"
      ]
     },
     "execution_count": 72,
     "metadata": {},
     "output_type": "execute_result"
    }
   ],
   "source": [
    "nodes_sort.iloc[5880:5890]"
   ]
  },
  {
   "cell_type": "code",
   "execution_count": null,
   "id": "5a11f74e",
   "metadata": {},
   "outputs": [],
   "source": []
  },
  {
   "cell_type": "code",
   "execution_count": 73,
   "id": "4f43bc98",
   "metadata": {},
   "outputs": [
    {
     "ename": "AttributeError",
     "evalue": "'MultiDiGraph' object has no attribute 'head'",
     "output_type": "error",
     "traceback": [
      "\u001b[1;31m---------------------------------------------------------------------------\u001b[0m",
      "\u001b[1;31mAttributeError\u001b[0m                            Traceback (most recent call last)",
      "Cell \u001b[1;32mIn[73], line 1\u001b[0m\n\u001b[1;32m----> 1\u001b[0m \u001b[43mgraph\u001b[49m\u001b[38;5;241;43m.\u001b[39;49m\u001b[43mhead\u001b[49m\n",
      "\u001b[1;31mAttributeError\u001b[0m: 'MultiDiGraph' object has no attribute 'head'"
     ]
    }
   ],
   "source": [
    "graph.head"
   ]
  },
  {
   "cell_type": "code",
   "execution_count": null,
   "id": "720dba1e",
   "metadata": {},
   "outputs": [],
   "source": []
  },
  {
   "cell_type": "code",
   "execution_count": 74,
   "id": "177962b7",
   "metadata": {},
   "outputs": [
    {
     "data": {
      "image/png": "[encoded data removed]",
      "text/plain": [
       "<Figure size 800x800 with 1 Axes>"
      ]
     },
     "metadata": {},
     "output_type": "display_data"
    }
   ],
   "source": [
    "fig, ax = ox.plot_graph(graph, bgcolor='white', node_color='black', edge_color='grey', node_size=2)"
   ]
  },
  {
   "cell_type": "code",
   "execution_count": 75,
   "id": "a4d9497d",
   "metadata": {},
   "outputs": [
    {
     "ename": "IndexError",
     "evalue": "tuple index out of range",
     "output_type": "error",
     "traceback": [
      "\u001b[1;31m---------------------------------------------------------------------------\u001b[0m",
      "\u001b[1;31mIndexError\u001b[0m                                Traceback (most recent call last)",
      "Cell \u001b[1;32mIn[75], line 1\u001b[0m\n\u001b[1;32m----> 1\u001b[0m length \u001b[38;5;241m=\u001b[39m \u001b[43mnx\u001b[49m\u001b[38;5;241;43m.\u001b[39;49m\u001b[43mshortest_path_length\u001b[49m\u001b[43m(\u001b[49m\u001b[43mG\u001b[49m\u001b[38;5;241;43m=\u001b[39;49m\u001b[43mgraph\u001b[49m\u001b[43m[\u001b[49m\u001b[38;5;241;43m19000\u001b[39;49m\u001b[43m]\u001b[49m\u001b[43m,\u001b[49m\u001b[43m \u001b[49m\u001b[43msource\u001b[49m\u001b[38;5;241;43m=\u001b[39;49m\u001b[38;5;241;43m5888\u001b[39;49m\u001b[43m,\u001b[49m\u001b[43m \u001b[49m\u001b[43mtarget\u001b[49m\u001b[38;5;241;43m=\u001b[39;49m\u001b[38;5;241;43m14709\u001b[39;49m\u001b[43m,\u001b[49m\u001b[43m \u001b[49m\u001b[43mweight\u001b[49m\u001b[38;5;241;43m=\u001b[39;49m\u001b[38;5;124;43m'\u001b[39;49m\u001b[38;5;124;43mlength\u001b[39;49m\u001b[38;5;124;43m'\u001b[39;49m\u001b[43m)\u001b[49m\n",
      "File \u001b[1;32m~\\.gds\\lib\\site-packages\\networkx\\classes\\backends.py:134\u001b[0m, in \u001b[0;36m_dispatch.<locals>.wrapper\u001b[1;34m(*args, **kwds)\u001b[0m\n\u001b[0;32m    132\u001b[0m \u001b[38;5;129m@functools\u001b[39m\u001b[38;5;241m.\u001b[39mwraps(func)\n\u001b[0;32m    133\u001b[0m \u001b[38;5;28;01mdef\u001b[39;00m \u001b[38;5;21mwrapper\u001b[39m(\u001b[38;5;241m*\u001b[39margs, \u001b[38;5;241m*\u001b[39m\u001b[38;5;241m*\u001b[39mkwds):\n\u001b[1;32m--> 134\u001b[0m     graph \u001b[38;5;241m=\u001b[39m \u001b[43margs\u001b[49m\u001b[43m[\u001b[49m\u001b[38;5;241;43m0\u001b[39;49m\u001b[43m]\u001b[49m\n\u001b[0;32m    135\u001b[0m     \u001b[38;5;28;01mif\u001b[39;00m \u001b[38;5;28mhasattr\u001b[39m(graph, \u001b[38;5;124m\"\u001b[39m\u001b[38;5;124m__networkx_plugin__\u001b[39m\u001b[38;5;124m\"\u001b[39m) \u001b[38;5;129;01mand\u001b[39;00m plugins:\n\u001b[0;32m    136\u001b[0m         plugin_name \u001b[38;5;241m=\u001b[39m graph\u001b[38;5;241m.\u001b[39m__networkx_plugin__\n",
      "\u001b[1;31mIndexError\u001b[0m: tuple index out of range"
     ]
    }
   ],
   "source": [
    "length = nx.shortest_path_length(G=graph[19000], source=5888, target=14709, weight='length')"
   ]
  },
  {
   "cell_type": "code",
   "execution_count": null,
   "id": "b22f4f2f",
   "metadata": {},
   "outputs": [],
   "source": []
  },
  {
   "cell_type": "code",
   "execution_count": null,
   "id": "05c96386",
   "metadata": {},
   "outputs": [],
   "source": [
    "type(graph)"
   ]
  },
  {
   "cell_type": "code",
   "execution_count": null,
   "id": "8d1d466e",
   "metadata": {},
   "outputs": [],
   "source": [
    "# Calculate the shortest path\n",
    "#route = nx.shortest_path(G=graph_proj, source=orig_node, target=target_node, weight='length')\n",
    "length = nx.shortest_path_length(G=graph, source=Eugene_closest_node, target=bend_closest_node, weight='length')"
   ]
  },
  {
   "cell_type": "code",
   "execution_count": null,
   "id": "cbc1a31d",
   "metadata": {},
   "outputs": [],
   "source": [
    "print(nx.__version__)"
   ]
  },
  {
   "cell_type": "code",
   "execution_count": null,
   "id": "7747827b",
   "metadata": {},
   "outputs": [],
   "source": []
  },
  {
   "cell_type": "markdown",
   "id": "70f65e27",
   "metadata": {},
   "source": [
    "# Strugle End"
   ]
  },
  {
   "cell_type": "markdown",
   "id": "bd7990c5",
   "metadata": {},
   "source": [
    "#### e) Produce and customize a plot showing the routes between your three city pairs (i.e. fig, ax = ox.plot_graph_route(graph, route))."
   ]
  },
  {
   "cell_type": "code",
   "execution_count": null,
   "id": "7e42a094",
   "metadata": {},
   "outputs": [],
   "source": [
    "routes = [route1, route2, route3]\n",
    "rc = ['r', 'y', 'c']\n",
    "fig, ax = ox.plot_graph_routes(G, routes, route_colors=rc, route_linewidth=6, node_size=0)"
   ]
  },
  {
   "cell_type": "code",
   "execution_count": null,
   "id": "83ac0fd1",
   "metadata": {},
   "outputs": [],
   "source": [
    "#routes to be plotted\n",
    "routes = [eugene_bend_route, eugene_portland_route, eugene_florence_route]"
   ]
  },
  {
   "cell_type": "code",
   "execution_count": null,
   "id": "55848f47",
   "metadata": {},
   "outputs": [],
   "source": [
    "# route colors\n",
    "rc = ['r', 'y', 'c']"
   ]
  },
  {
   "cell_type": "code",
   "execution_count": null,
   "id": "716e42a1",
   "metadata": {},
   "outputs": [],
   "source": [
    "#plotting routes\n",
    "fig, ax = ox.plot_graph_routes(graph, routes, route_colors=rc, route_linewidth=6, node_size=0)"
   ]
  },
  {
   "cell_type": "code",
   "execution_count": null,
   "id": "61e926dc",
   "metadata": {},
   "outputs": [],
   "source": []
  },
  {
   "cell_type": "markdown",
   "id": "f81f881c",
   "metadata": {},
   "source": [
    "#### f) On average, how much longer is the network distances compared to the equivalent Euclidean distances?\n",
    "\n"
   ]
  },
  {
   "cell_type": "code",
   "execution_count": null,
   "id": "ce001615",
   "metadata": {},
   "outputs": [],
   "source": [
    "#eugene bend extra network distance in km\n",
    "eugene_bend_extra_dist = eugene_bend_length_km - eugene_bend_euc"
   ]
  },
  {
   "cell_type": "code",
   "execution_count": null,
   "id": "99bbcbbe",
   "metadata": {},
   "outputs": [],
   "source": [
    "eugene_bend_extra_dist"
   ]
  },
  {
   "cell_type": "code",
   "execution_count": null,
   "id": "ed441536",
   "metadata": {},
   "outputs": [],
   "source": []
  },
  {
   "cell_type": "code",
   "execution_count": null,
   "id": "bcc0dceb",
   "metadata": {},
   "outputs": [],
   "source": [
    "#eugene portland extra network distance in km\n",
    "eugene_portland_extra_dist = eugene_portland_length_km - eugene_portland_euc"
   ]
  },
  {
   "cell_type": "code",
   "execution_count": null,
   "id": "2c07d45f",
   "metadata": {},
   "outputs": [],
   "source": [
    "eugene_bend_extra_dist"
   ]
  },
  {
   "cell_type": "code",
   "execution_count": null,
   "id": "9c051711",
   "metadata": {},
   "outputs": [],
   "source": []
  },
  {
   "cell_type": "code",
   "execution_count": null,
   "id": "606e2b47",
   "metadata": {},
   "outputs": [],
   "source": [
    "#eugene florence extra network distance in km\n",
    "eugene_florence_extra_dist = eugene_florence_length_km - eugene_florence_euc"
   ]
  },
  {
   "cell_type": "code",
   "execution_count": null,
   "id": "0f5bd69e",
   "metadata": {},
   "outputs": [],
   "source": [
    "eugene_bend_extra_dist"
   ]
  },
  {
   "cell_type": "code",
   "execution_count": null,
   "id": "5d0d5055",
   "metadata": {},
   "outputs": [],
   "source": []
  },
  {
   "cell_type": "code",
   "execution_count": null,
   "id": "96f6b779",
   "metadata": {},
   "outputs": [],
   "source": [
    "#average extra network distance between the three pairs\n",
    "ave_extra_dist = (eugene_bend_extra_dist + eugene_bend_extra_dist + eugene_bend_extra_dist) / 3"
   ]
  },
  {
   "cell_type": "code",
   "execution_count": null,
   "id": "2dc8909a",
   "metadata": {},
   "outputs": [],
   "source": [
    "ave_extra_dist"
   ]
  },
  {
   "cell_type": "code",
   "execution_count": null,
   "id": "6341fb7a",
   "metadata": {},
   "outputs": [],
   "source": []
  },
  {
   "cell_type": "markdown",
   "id": "f192424d",
   "metadata": {},
   "source": [
    "#### g) How long would it take to travel between your three city pairs given an average speed of 60 mph?"
   ]
  },
  {
   "cell_type": "code",
   "execution_count": null,
   "id": "a2920d77",
   "metadata": {},
   "outputs": [],
   "source": [
    "#60mph ~ 96.5606 kmh"
   ]
  },
  {
   "cell_type": "code",
   "execution_count": null,
   "id": "4a226ec4",
   "metadata": {},
   "outputs": [],
   "source": [
    "#(total network distance between the 3 pairs) / 96.5606 \n",
    "Ave_time_hours = (eugene_bend_length_km + eugene_portland_length_km + eugene_florence_length_km) / 96.5606 "
   ]
  },
  {
   "cell_type": "code",
   "execution_count": null,
   "id": "68406c6a",
   "metadata": {},
   "outputs": [],
   "source": [
    "Ave_time_hours"
   ]
  },
  {
   "cell_type": "code",
   "execution_count": null,
   "id": "3ae9caed",
   "metadata": {},
   "outputs": [],
   "source": []
  },
  {
   "cell_type": "code",
   "execution_count": null,
   "id": "eb26c491",
   "metadata": {},
   "outputs": [],
   "source": []
  },
  {
   "cell_type": "code",
   "execution_count": null,
   "id": "e1a9a5b7",
   "metadata": {},
   "outputs": [],
   "source": []
  },
  {
   "cell_type": "code",
   "execution_count": null,
   "id": "5702032a",
   "metadata": {},
   "outputs": [],
   "source": []
  },
  {
   "cell_type": "code",
   "execution_count": null,
   "id": "09e8ef13",
   "metadata": {},
   "outputs": [],
   "source": []
  },
  {
   "cell_type": "code",
   "execution_count": null,
   "id": "516b57ad",
   "metadata": {},
   "outputs": [],
   "source": []
  },
  {
   "cell_type": "code",
   "execution_count": null,
   "id": "3b0db726",
   "metadata": {},
   "outputs": [],
   "source": []
  },
  {
   "cell_type": "code",
   "execution_count": null,
   "id": "d489e33f",
   "metadata": {},
   "outputs": [],
   "source": []
  }
 ],
 "metadata": {
  "kernelspec": {
   "display_name": "Python 3 (ipykernel)",
   "language": "python",
   "name": "python3"
  },
  "language_info": {
   "codemirror_mode": {
    "name": "ipython",
    "version": 3
   },
   "file_extension": ".py",
   "mimetype": "text/x-python",
   "name": "python",
   "nbconvert_exporter": "python",
   "pygments_lexer": "ipython3",
   "version": "3.10.8"
  }
 },
 "nbformat": 4,
 "nbformat_minor": 5
}
